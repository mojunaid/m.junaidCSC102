{
 "cells": [
  {
   "cell_type": "code",
   "execution_count": 2,
   "id": "0b7deead",
   "metadata": {},
   "outputs": [
    {
     "name": "stdout",
     "output_type": "stream",
     "text": [
      "What is your name?Moyo\n",
      "How many oranges do you want to buy?7\n",
      "Sorry, Moyo. We only have 25 oranges in stock. Please select quantity less than previously specified.\n"
     ]
    }
   ],
   "source": [
    "#Project 1\n",
    "\n",
    "class Orange:\n",
    "    def __init__(self, price, stock):\n",
    "        self.price = price\n",
    "        self.stock = stock\n",
    "        \n",
    "class customer:\n",
    "    def __init__(self, name, orange):\n",
    "        self.name = name\n",
    "        self.orange = orange\n",
    "        \n",
    "    def buy_oranges(self, quantity):\n",
    "        if quantity == self.orange.stock:\n",
    "            self.orange.stock = quantity\n",
    "            cost = quantity * 5\n",
    "            print(f\"Thank you for your purchase, {self.name}! Your total cost is {cost}.\")\n",
    "        else:\n",
    "            print(f\"Sorry, {self.name}. We only have {self.orange.stock} oranges in stock. Please select quantity less than previously specified.\")\n",
    "\n",
    "            \n",
    "# Create an orange object with a price of 10 and a stock of 25\n",
    "orange = Orange(5, 25)\n",
    "\n",
    "name = input(\"What is your name?\")\n",
    "customer = customer(name, orange)\n",
    "\n",
    "quantity = input(\"How many oranges do you want to buy?\")\n",
    "customer.buy_oranges(orange.price)\n"
   ]
  },
  {
   "cell_type": "code",
   "execution_count": 30,
   "id": "0da78eb8",
   "metadata": {},
   "outputs": [
    {
     "ename": "SyntaxError",
     "evalue": "invalid syntax (3847078779.py, line 45)",
     "output_type": "error",
     "traceback": [
      "\u001b[1;36m  Cell \u001b[1;32mIn[30], line 45\u001b[1;36m\u001b[0m\n\u001b[1;33m    elif user_input == 2:\u001b[0m\n\u001b[1;37m    ^\u001b[0m\n\u001b[1;31mSyntaxError\u001b[0m\u001b[1;31m:\u001b[0m invalid syntax\n"
     ]
    }
   ],
   "source": [
    "# Project 2\n",
    "\n",
    "class calc():\n",
    "    def Trapezium(self, height, base1, base2):\n",
    "        self.height = height\n",
    "        self.base1 = base1\n",
    "        self.base2 = base2\n",
    "        return self.height/2 * (self.base1 + self.base2)\n",
    "    \n",
    "    def Rhombus(self, diagonal1, diagonal2):\n",
    "        self.diagonal1 = diagonal1\n",
    "        self.diagonal2 = diagonal2\n",
    "        return (self.diagonal1 * self.diagonal2)/2\n",
    "    \n",
    "    def Parallelogram(self, base, altitude):\n",
    "        self.base = base\n",
    "        self.altitude = altitude\n",
    "        return self.base * self.altitude\n",
    "    \n",
    "    def Cube(self, length):\n",
    "        self.length = length\n",
    "        return 6 * length **2\n",
    "   \n",
    "    def cylinder(self, radius, height):\n",
    "        self.radius = radius\n",
    "        self.height = height\n",
    "        ans = 22/7 * self.radius**2 * self.height\n",
    "        print(f\"The volume of Cylinder is {ans}\")\n",
    "\n",
    "    \"Calculation for the various equations\"\n",
    "    print(\"Type I to calculate the area of Trapezium\")\n",
    "    print(\"Type II to calculate the area of Rhombus\")\n",
    "    print(\"Type III to calculate the area of Parallelogram\")\n",
    "    print(\"Type IV to calculate the area of Cube\")\n",
    "    print(\"Type V to calculate the volume of Cylinder\")\n",
    "    user_input= int(input(\"Enter a number 1-5: \"))\n",
    "    \n",
    "    if user_input == 1:\n",
    "        base1 = int(input(\"Enter a value for base1: \"))\n",
    "        base2 = int(input(\"Enter a value of base2: \"))\n",
    "        height = int(input(\"Enter a value of height: \"))\n",
    " \n",
    "    obj = calc()\n",
    "    obj.trapezium(height, base1, base2)\n",
    "elif user_input == 2:\n",
    "    diagonal1 = int(input(\"Enter a value for diagonal1: \"))\n",
    "    diagonal2 = int(input(\"Enter a value of diagonal2: \"))\n",
    "    \n",
    "    obj = calc()\n",
    "    obj.rhombus(diagonal1, diagonal2)\n",
    "elif user_input == 3:\n",
    "    base = int(input(\"Enter a value for the base: \"))\n",
    "    altitude = int(input(\"Enter a value of altitude: \"))\n",
    "    \n",
    "    obj = calc()\n",
    "    obj.parallelogram(base, altitude)\n",
    "elif user_input == 4:\n",
    "     length = int(input(\"Enter a value for length:\"))\n",
    "\n",
    "obj = calc().cube(length)\n",
    "    obj.cube(length)\n",
    "elif user_input == 5:\n",
    "     length = int(input(\"Enter a value for length:\"))\n",
    "     \n",
    "     obj = calc()\n",
    "        obj.cylinder(radius, height\n",
    "elif user_input == 6:\n",
    "      radius = int(input(\"Enter a value for radius:\"))\n",
    "      height = int(input(\"Enter a value of height:\"))\n",
    "        else:\n",
    "      print(\"The number you enter is not between 1 and 5\")\n",
    "   \n"
   ]
  }
 ],
 "metadata": {
  "kernelspec": {
   "display_name": "Python 3 (ipykernel)",
   "language": "python",
   "name": "python3"
  },
  "language_info": {
   "codemirror_mode": {
    "name": "ipython",
    "version": 3
   },
   "file_extension": ".py",
   "mimetype": "text/x-python",
   "name": "python",
   "nbconvert_exporter": "python",
   "pygments_lexer": "ipython3",
   "version": "3.10.9"
  }
 },
 "nbformat": 4,
 "nbformat_minor": 5
}

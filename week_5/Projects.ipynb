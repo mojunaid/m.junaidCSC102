{
 "cells": [
  {
   "cell_type": "code",
   "execution_count": 3,
   "id": "a51c541e",
   "metadata": {},
   "outputs": [
    {
     "name": "stdout",
     "output_type": "stream",
     "text": [
      "Name | Age | Heights | Scores\n",
      "Samantha 17 5.5 80\n",
      "Jade 16 6.0 85\n",
      "Jane 17 5.4 70\n",
      "Claire 18 5.9 60\n",
      "Elizabeth 16 5.6 76\n",
      "Mary 18 5.5 66\n",
      "Susan 17 6.1 87\n",
      "Waje 20 6.0 95\n",
      "Taibat 19 5.7 50\n",
      "Lilian 17 5.5 49\n",
      "Charles 19 5.7 74\n",
      "Jude 16 5.9 87\n",
      "James 18 5.8 75\n",
      "Kelvin 17 6.1 68\n",
      "Biodun 20 5.9 66\n",
      "Wale 19 5.5 78\n",
      "Kunle 16 6.1 87\n",
      "Matthew 18 5.4 98\n",
      "Tom 17 5.8 54\n",
      "Kayode 19 5.7 60\n"
     ]
    }
   ],
   "source": [
    "# A class for 20 students (Project I)\n",
    "\n",
    "girl_names = [\"Samantha\", \"Jade\", \"Jane\", \"Claire\", \"Elizabeth\", \"Mary\", \"Susan\", \"Waje\", \"Taibat\", \"Lilian\"]\n",
    "\n",
    "girl_ages = [\"17\", \"16\", \"17\", \"18\", \"16\", \"18\", \"17\", \"20\", \"19\", \"17\"]\n",
    "\n",
    "girl_heights = [\"5.5\", \"6.0\", \"5.4\", \"5.9\", \"5.6\", \"5.5\", \"6.1\", \"6.0\", \"5.7\", \"5.5\"]\n",
    "\n",
    "girl_scores = [\"80\", \"85\", \"70\", \"60\", \"76\", \"66\", \"87\", \"95\", \"50\", \"49\"]\n",
    "\n",
    "\n",
    "boy_names = [\"Charles\", \"Jude\", \"James\", \"Kelvin\", \"Biodun\", \"Wale\", \"Kunle\", \"Matthew\", \"Tom\", \"Kayode\"]\n",
    "\n",
    "boy_ages = [\"19\", \"16\", \"18\", \"17\", \"20\", \"19\", \"16\", \"18\", \"17\", \"19\"]\n",
    "\n",
    "boy_heights = [\"5.7\", \"5.9\", \"5.8\", \"6.1\", \"5.9\", \"5.5\", \"6.1\", \"5.4\", \"5.8\", \"5.7\"]\n",
    "\n",
    "boy_scores = [\"74\", \"87\", \"75\", \"68\", \"66\", \"78\", \"87\", \"98\", \"54\", \"60\"]\n",
    "\n",
    "print(\"Name | Age | Heights | Scores\")\n",
    "\n",
    "for i in range(len(girl_names)):\n",
    "    print(girl_names[i], girl_ages[i], girl_heights[i], girl_scores[i])\n",
    "\n",
    "for i in range(len(boy_names)):\n",
    "    print(boy_names[i], boy_ages[i], boy_heights[i], boy_scores[i])\n",
    "    "
   ]
  },
  {
   "cell_type": "code",
   "execution_count": 5,
   "id": "6bfa0f1a",
   "metadata": {},
   "outputs": [
    {
     "name": "stdout",
     "output_type": "stream",
     "text": [
      "Welcome staff member to the Fintech , please proceed... \n",
      "Input your age17\n",
      "How many years of experience do you have? 9\n"
     ]
    }
   ],
   "source": [
    "# Project II\n",
    "print(\"Welcome staff member to the Fintech , please proceed... \")\n",
    "\n",
    "age = int(input(\"Input your age\"))\n",
    "experience = int(input(\"How many years of experience do you have? \"))\n",
    "\n",
    "if age >= 55 & experience > 25:\n",
    "    print(\"the annual tax revenue you are allowed to have is ₦5,600,000\")\n",
    "    \n",
    "elif age >= 45 & experience > 10:\n",
    "    print(\"The annual tax revenue you are allowed to have is ₦4,480,000\")\n",
    "    \n",
    "elif age >= 35 & experience > 10:\n",
    "    print(\"The annual tax revenue you are allowed to have is ₦1,500,000\")\n",
    "    \n",
    "elif age < 35 & experience < 10:\n",
    "     print(\"The annual revenue you are allowed to have is ₦550.000\")\n",
    "    \n",
    "\n",
    "    "
   ]
  },
  {
   "cell_type": "code",
   "execution_count": null,
   "id": "261059be",
   "metadata": {},
   "outputs": [],
   "source": []
  }
 ],
 "metadata": {
  "kernelspec": {
   "display_name": "Python 3 (ipykernel)",
   "language": "python",
   "name": "python3"
  },
  "language_info": {
   "codemirror_mode": {
    "name": "ipython",
    "version": 3
   },
   "file_extension": ".py",
   "mimetype": "text/x-python",
   "name": "python",
   "nbconvert_exporter": "python",
   "pygments_lexer": "ipython3",
   "version": "3.10.9"
  }
 },
 "nbformat": 4,
 "nbformat_minor": 5
}

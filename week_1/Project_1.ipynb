{
 "cells": [
  {
   "cell_type": "code",
   "execution_count": null,
   "id": "191959b4",
   "metadata": {},
   "outputs": [],
   "source": [
    "# This program calculates Simple interest, Compund interest and Annuity plan\n",
    "# where: P = Principal, R = Rate, T = Time, n = no of year and PMT = payment"
   ]
  },
  {
   "cell_type": "code",
   "execution_count": 5,
   "id": "942e3b7c",
   "metadata": {},
   "outputs": [
    {
     "name": "stdout",
     "output_type": "stream",
     "text": [
      "Please enter your principal: 2\n",
      "Please enter your rate2\n",
      "Please enter your time range2\n",
      "2.08\n"
     ]
    }
   ],
   "source": [
    "# Simple Interest\n",
    "P = int(input(\"Please enter your principal: \"))\n",
    "R = int(input(\"Please enter your rate\"))\n",
    "T = int(input(\"Please enter your time range\"))\n",
    "\n",
    "simple_interest = P * (1 + ((R/100) * T ))\n",
    "print(simple_interest)\n"
   ]
  },
  {
   "cell_type": "code",
   "execution_count": 13,
   "id": "ba0c9483",
   "metadata": {},
   "outputs": [
    {
     "name": "stdout",
     "output_type": "stream",
     "text": [
      "Please enter your principal: 5\n",
      "Please enter your rate12\n",
      "Please enter your time range37\n",
      "Please enter no of year: 9\n",
      "1.7188560513025406e+123\n"
     ]
    }
   ],
   "source": [
    "# Compound interest\n",
    "P = int(input(\"Please enter your principal: \"))\n",
    "R = int(input(\"Please enter your rate\"))\n",
    "T = int(input(\"Please enter your time range\"))\n",
    "n = int(input(\"Please enter no of year: \"))\n",
    "\n",
    "compound_interest = P * (1 + (R/n))  ** (n * T)\n",
    "print(compound_interest)"
   ]
  },
  {
   "cell_type": "code",
   "execution_count": 18,
   "id": "08562e0e",
   "metadata": {},
   "outputs": [
    {
     "name": "stdout",
     "output_type": "stream",
     "text": [
      "Please enter your payment: 5\n",
      "Please enter your rate6\n",
      "Please enter your time range76\n",
      "Please enter no of year: 8\n",
      "3.481964343984137e+146\n"
     ]
    }
   ],
   "source": [
    "# Annuity Plan\n",
    "PMT =int(input(\"Please enter your payment: \"))\n",
    "R = int(input(\"Please enter your rate\"))\n",
    "T = int(input(\"Please enter your time range\"))\n",
    "n = int(input(\"Please enter no of year: \"))\n",
    "\n",
    "annuity_plan = PMT * ((1 + R/n)) ** ((n * T) - 1 )/R/n\n",
    "print(annuity_plan)"
   ]
  }
 ],
 "metadata": {
  "kernelspec": {
   "display_name": "Python 3 (ipykernel)",
   "language": "python",
   "name": "python3"
  },
  "language_info": {
   "codemirror_mode": {
    "name": "ipython",
    "version": 3
   },
   "file_extension": ".py",
   "mimetype": "text/x-python",
   "name": "python",
   "nbconvert_exporter": "python",
   "pygments_lexer": "ipython3",
   "version": "3.10.9"
  }
 },
 "nbformat": 4,
 "nbformat_minor": 5
}
